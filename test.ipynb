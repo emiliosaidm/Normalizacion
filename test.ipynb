{
 "cells": [
  {
   "cell_type": "code",
   "execution_count": 38,
   "metadata": {},
   "outputs": [],
   "source": [
    "from normalization.components import Relvar, FunctionalDependency, MultivaluedDependency, Attribute\n",
    "from normalization.algorithms import closure, is_superkey, is_key, is_relvar_in_4nf, is_relvar_in_bcnf\n",
    "import numpy as np\n",
    "import matplotlib.pyplot as plt"
   ]
  },
  {
   "cell_type": "code",
   "execution_count": 39,
   "metadata": {},
   "outputs": [
    {
     "data": {
      "text/plain": [
       "False"
      ]
     },
     "execution_count": 39,
     "metadata": {},
     "output_type": "execute_result"
    }
   ],
   "source": [
    "df1 = FunctionalDependency(\"{CLABE} -> {Nombre, Apellido, RFC}\")\n",
    "df1.is_trivial()"
   ]
  },
  {
   "cell_type": "code",
   "execution_count": 40,
   "metadata": {},
   "outputs": [
    {
     "data": {
      "text/plain": [
       "True"
      ]
     },
     "execution_count": 40,
     "metadata": {},
     "output_type": "execute_result"
    }
   ],
   "source": [
    "dmv1 = MultivaluedDependency(\"{RFC} ->-> {CLABE}\")\n",
    "dmv1.is_trivial(heading={Attribute(\"CLABE\"), Attribute(\"RFC\")})"
   ]
  },
  {
   "cell_type": "code",
   "execution_count": 37,
   "metadata": {},
   "outputs": [
    {
     "data": {
      "text/plain": [
       "{Attribute(name='A'), Attribute(name='B'), Attribute(name='C')}"
      ]
     },
     "execution_count": 37,
     "metadata": {},
     "output_type": "execute_result"
    }
   ],
   "source": [
    "df1 = FunctionalDependency(\"{A} -> {B}\")\n",
    "df2 = FunctionalDependency(\"{B} -> {C}\")\n",
    "df3 = FunctionalDependency(\"{A,D} -> {E}\")\n",
    "\n",
    "closure(\n",
    "    attributes={Attribute(\"A\")},\n",
    "    functional_dependencies={df1,df2,df3}\n",
    ")"
   ]
  },
  {
   "cell_type": "code",
   "execution_count": null,
   "metadata": {},
   "outputs": [
    {
     "data": {
      "text/plain": [
       "True"
      ]
     },
     "execution_count": 27,
     "metadata": {},
     "output_type": "execute_result"
    }
   ],
   "source": [
    "df1 = FunctionalDependency(\"{A} -> {B, E}\")\n",
    "df2 = FunctionalDependency(\"{B} -> {C}\")\n",
    "df3 = FunctionalDependency(\"{A,D} -> {E}\")\n",
    "df4 = FunctionalDependency(\"{E} -> {A,B,C}\")\n",
    "\n",
    "is_superkey(\n",
    "    attributes={Attribute(\"A\"), Attribute(\"E\")},\n",
    "    functional_dependencies={df1,df2,df3},\n",
    "    heading={Attribute(name='A'), Attribute(name='B'), Attribute(name='C'),  Attribute(name='E')}\n",
    ")"
   ]
  },
  {
   "cell_type": "code",
   "execution_count": 29,
   "metadata": {},
   "outputs": [
    {
     "data": {
      "text/plain": [
       "True"
      ]
     },
     "execution_count": 29,
     "metadata": {},
     "output_type": "execute_result"
    }
   ],
   "source": [
    "df1 = FunctionalDependency(\"{A} -> {B,D}\")\n",
    "df2 = FunctionalDependency(\"{B} -> {C}\")\n",
    "\n",
    "is_key(\n",
    "    attributes={Attribute(\"A\")},\n",
    "    functional_dependencies={df1,df2},\n",
    "    heading={Attribute(name='A'), Attribute(name='B'), Attribute(name='C'), Attribute(name='D')}\n",
    ")"
   ]
  },
  {
   "cell_type": "code",
   "execution_count": 31,
   "metadata": {},
   "outputs": [
    {
     "data": {
      "text/plain": [
       "True"
      ]
     },
     "execution_count": 31,
     "metadata": {},
     "output_type": "execute_result"
    }
   ],
   "source": [
    "fd1 = FunctionalDependency(\"{A} -> {B}\")\n",
    "fd2 = FunctionalDependency(\"{B} -> {C}\")\n",
    "fd3 = FunctionalDependency(\"{C} -> {A}\")\n",
    "relvar = Relvar(\n",
    "    {\"A\", \"B\", \"C\"},\n",
    "    {fd1, fd2, fd3}\n",
    ")\n",
    "\n",
    "is_relvar_in_bcnf(relvar)\n"
   ]
  },
  {
   "cell_type": "code",
   "execution_count": null,
   "metadata": {},
   "outputs": [
    {
     "name": "stdout",
     "output_type": "stream",
     "text": [
      "True\n"
     ]
    }
   ],
   "source": [
    "fd = FunctionalDependency(\"{EstudianteID} -> {Curso, Club}\")\n",
    "\n",
    "mfd1 = MultivaluedDependency(\"{EstudianteID} ->-> {Curso}\")\n",
    "mfd2 = MultivaluedDependency(\"{EstudianteID} ->-> {Club}\")\n",
    "\n",
    "relvar_4nf = Relvar(\n",
    "    heading={\"EstudianteID\", \"Curso\", \"Club\"},\n",
    "    functional_dependencies={fd},\n",
    "    multivalued_dependencies={mfd1, mfd2}\n",
    ")\n",
    "\n",
    "print(is_relvar_in_4nf(relvar_4nf))  # Debería imprimir True"
   ]
  },
  {
   "cell_type": "code",
   "execution_count": null,
   "metadata": {},
   "outputs": [
    {
     "name": "stdout",
     "output_type": "stream",
     "text": [
      "False\n"
     ]
    }
   ],
   "source": [
    "fd = FunctionalDependency(\"{A} -> {B}\")\n",
    "\n",
    "mfd = MultivaluedDependency(\"{B} ->-> {C}\")\n",
    "\n",
    "relvar_not_4nf = Relvar(\n",
    "    {\"A\", \"B\", \"C\"},\n",
    "    functional_dependencies={fd},\n",
    "    multivalued_dependencies={mfd}\n",
    ")\n",
    "\n",
    "print(is_relvar_in_4nf(relvar_not_4nf))  # Debería imprimir False"
   ]
  },
  {
   "cell_type": "code",
   "execution_count": 36,
   "metadata": {},
   "outputs": [
    {
     "name": "stdout",
     "output_type": "stream",
     "text": [
      "False\n"
     ]
    }
   ],
   "source": [
    "mvd1 = MultivaluedDependency(\"{EmpleadoID} ->-> {Proyecto}\")\n",
    "\n",
    "mvd2 = MultivaluedDependency(\"{EmpleadoID} ->-> {Habilidad}\")\n",
    "\n",
    "relvar_only_mvd = Relvar(\n",
    "    {\"EmpleadoID\", \"Proyecto\", \"Habilidad\"},\n",
    "    multivalued_dependencies={mvd1, mvd2}\n",
    ")\n",
    "\n",
    "print(is_relvar_in_4nf(relvar_only_mvd))  # Debería imprimir False"
   ]
  }
 ],
 "metadata": {
  "kernelspec": {
   "display_name": "Python 3",
   "language": "python",
   "name": "python3"
  },
  "language_info": {
   "codemirror_mode": {
    "name": "ipython",
    "version": 3
   },
   "file_extension": ".py",
   "mimetype": "text/x-python",
   "name": "python",
   "nbconvert_exporter": "python",
   "pygments_lexer": "ipython3",
   "version": "3.11.8"
  }
 },
 "nbformat": 4,
 "nbformat_minor": 2
}
